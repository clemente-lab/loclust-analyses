{
 "cells": [
  {
   "cell_type": "markdown",
   "metadata": {},
   "source": [
    "# This notebook describes the analysis of Graham's Colitis Mouse dataset"
   ]
  },
  {
   "cell_type": "code",
   "execution_count": null,
   "metadata": {},
   "outputs": [],
   "source": [
    "# Convert weight information to trajectories, subset by disease type for cluster analyses\n",
    "\n",
    "python sc_create_trajs_colitis-mice.py\n",
    "python sc_subset_colitis_trajs.py"
   ]
  },
  {
   "cell_type": "code",
   "execution_count": null,
   "metadata": {},
   "outputs": [],
   "source": [
    "# Cluster trajectories\n",
    "\n",
    "# Make cluster commands\n",
    "python sc_create_j_clust.py -i \"/sc/arion/projects/clemej05a/hilary/graham/weight_trajs/\" -b \"/sc/arion/projects/clemej05a/hilary/graham/\" -s \"/sc/arion/projects/clemej05a/hilary/repos/loclust/scripts\" -o Graham_commands_for_jobs.txt\n",
    "\n",
    "# Make and submit jobs\n",
    "python generate_lsf_loclust.py -e loclust3pt8 -c Graham_commands_for_jobs.txt -o /sc/arion/projects/clemej05a/hilary/graham/jobs/ -py /hpc/users/monach01/.conda/envs/loclust3pt8/lib/python3.8/ --submit"
   ]
  },
  {
   "cell_type": "code",
   "execution_count": null,
   "metadata": {},
   "outputs": [],
   "source": [
    "# Calculate silhouette scores\n",
    "python sc_stdout_parse.py -i '/sc/arion/projects/clemej05a/hilary/graham/jobs/'\n",
    "\n",
    "# Calculate v-measure\n",
    "python sc_vmeasure_with_mdata.py -i '/sc/arion/projects/clemej05a/hilary/graham/outputs/weight_trajs/' -m  \"MicrobiotaID\" -m \"Donor_disease_state\" -m \"Experiment\" -m \"Mouse_#\"\n",
    "\n",
    "# Calculate chi squared results\n",
    "python sc_chiSq.py -i '/sc/arion/projects/clemej05a/hilary/graham/outputs/weight_trajs/' -m  \"MicrobiotaID\" -m \"Donor_disease_state\" -m \"Experiment\" -m \"Mouse_#\"\n"
   ]
  },
  {
   "cell_type": "markdown",
   "metadata": {},
   "source": [
    "Review sc_stdout_parse.py outputs for selection of clusters by silhouette score. \n",
    "\n",
    "Corresponding info the clusters of interest will be in the output files form sc_vmeasure_with_mdata.py and sc_chiSq.py\n",
    "\n",
    "Transfer relevant cluster files as appropriate before plotting. "
   ]
  },
  {
   "cell_type": "code",
   "execution_count": null,
   "metadata": {},
   "outputs": [],
   "source": [
    "# Plotting\n",
    "\n",
    "python sc_convert_traj_for_R_plotting.py -i 'C:/Users/mathr/Documents/GitHub/graham/outputs/' -m \"MicrobiotaID\" -m \"Donor_disease_state\" -m \"Experiment\" -m \"cluster\"\n",
    "\n",
    "R sc_plot_graham_data.R"
   ]
  }
 ],
 "metadata": {
  "language_info": {
   "name": "python"
  },
  "orig_nbformat": 4
 },
 "nbformat": 4,
 "nbformat_minor": 2
}

{
 "cells": [
  {
   "cell_type": "markdown",
   "metadata": {},
   "source": [
    "# This notebook describes the analysis of the Simulation Data in the Supplementary Figures"
   ]
  },
  {
   "cell_type": "markdown",
   "metadata": {},
   "source": [
    "Trajectories were generated using loclust. For additional detail see Nan Shen's Thesis. \n",
    "\n",
    "Data stored here: /sc/arion/projects/clemej05a/hilary/loclust_tool_comp/input_trajs/8\n",
    "Nan's Original Copy: /sc/arion/projects/clemej05a/cooccurrence/lodi_simu_test/outputs/8"
   ]
  },
  {
   "cell_type": "code",
   "execution_count": null,
   "metadata": {},
   "outputs": [],
   "source": [
    "# Script investigating different features from each type of function\n",
    "python sc_explore_features.py"
   ]
  },
  {
   "cell_type": "code",
   "execution_count": null,
   "metadata": {},
   "outputs": [],
   "source": [
    "# Function miss-classification heatmap generation\n",
    "\n",
    "R sc_alignment_heatmaps.R"
   ]
  },
  {
   "cell_type": "code",
   "execution_count": null,
   "metadata": {},
   "outputs": [],
   "source": [
    "# Plot heatmap comparing features of each function type\n",
    "R sc_9heat_qt.R"
   ]
  }
 ],
 "metadata": {
  "language_info": {
   "name": "python"
  }
 },
 "nbformat": 4,
 "nbformat_minor": 2
}

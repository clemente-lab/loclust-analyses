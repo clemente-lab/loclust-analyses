{
 "cells": [
  {
   "cell_type": "markdown",
   "metadata": {},
   "source": [
    "# This notebook describes the analysis of the TB dataset"
   ]
  },
  {
   "cell_type": "code",
   "execution_count": null,
   "metadata": {},
   "outputs": [],
   "source": [
    "# Convert biom file to genus file\n",
    "# Copied from /sc/arion/projects/clemej05a/adam/downloads/southafrica_longitudinal_tb/ \n",
    "# to\n",
    "# /sc/arion/projects/clemej05a/hilary/longitudinal_tb\n",
    "\n",
    "# Generate taxa summaries - performed by Adam in Qiime2. Final relative abundance artifact: relative_taxa_table_L6.qza\n",
    "# Unzipped\n",
    "mkdir relative_taxa_table_L6\n",
    "unzip relative_taxa_table_L6.qza\n",
    "mv 7c7c0ad1-cda3-47af-8bdb-90454df84550 /relative_taxa_table_L6/\n",
    "\n",
    "# On Minerva\n",
    "source activate qiime2-2020.8.0\n",
    "\n",
    "cd 7c7c0ad1-cda3-47af-8bdb-90454df84550/data/\n",
    "biom convert -i feature-table.biom -o feature-table-all-L6.tsv --to-tsv\n",
    "cp feature-table-all-L6.tsv /sc/arion/projects/clemej05a/hilary/longitudinal_tb/"
   ]
  },
  {
   "cell_type": "code",
   "execution_count": null,
   "metadata": {},
   "outputs": [],
   "source": [
    "# Convert genus level table to trajectories\n",
    "\n",
    "python sc_make_tb_trajs_Adam_relabd_parse-revamp.py\n",
    "\n",
    "# Data file: feature-table-all-L6.tsv\n",
    "# Metadata file: 20211117.bar.map.tsv\n",
    "\n",
    "# Final trajectories saved in folder /taxa_trajs/time-corrected-trajs/\n",
    "# These trajs transfered to Minerva for clustering into /sc/arion/projects/clemej05a/hilary/longitudinal_tb/time-corrected-trajs/"
   ]
  },
  {
   "cell_type": "code",
   "execution_count": null,
   "metadata": {},
   "outputs": [],
   "source": [
    "# Cluster trajectories\n",
    "\n",
    "# Make cluster commands\n",
    "python sc_create_j_clust.py -i \"/sc/arion/projects/clemej05a/hilary/longitudinal_tb/time-corrected-trajs/\" -b \"/sc/arion/projects/clemej05a/hilary/longitudinal_tb/\" -s \"/sc/arion/projects/clemej05a/hilary/repos/loclust/scripts\" -o TB_relabd_L6_commands_for_jobs.txt\n",
    "# Make and submit jobs\n",
    "python generate_lsf_loclust.py -e loclust3pt8 -c TB_relabd_L6_commands_for_jobs.txt -o /sc/arion/projects/clemej05a/hilary/longitudinal_tb/jobs/ -py /hpc/users/monach01/.conda/envs/loclust3pt8/lib/python3.8/ --submit"
   ]
  },
  {
   "cell_type": "code",
   "execution_count": null,
   "metadata": {},
   "outputs": [],
   "source": [
    "# Calculate silhouette scores\n",
    "python sc_stdout_parse.py -i '/sc/arion/projects/clemej05a/hilary/longitudinal_tb/jobs_lego7/'\n",
    "\n",
    "# Calculate v-measure\n",
    "python sc_vmeasure_with_mdata.py -i '/sc/arion/projects/clemej05a/hilary/longitudinal_tb/outputs/time-corrected-trajs_lego_interp/' -m \"prior_tb_c\" -m \"outcome_c\" -m \"hiv\" -m \"current_smoker\" -m \"tb_score_class\"\n",
    "\n",
    "# Calculate chi squared results\n",
    "python sc_chiSq.py -i '/sc/arion/projects/clemej05a/hilary/longitudinal_tb/outputs/time-corrected-trajs_lego_interp/' -m \"prior_tb_c\" -m \"outcome_c\" -m \"hiv\" -m \"current_smoker\" -m \"tb_score_class\""
   ]
  },
  {
   "cell_type": "code",
   "execution_count": null,
   "metadata": {},
   "outputs": [],
   "source": [
    "# Selection of taxa for further analysis\n",
    "\n",
    "# Merge silhouette score and v-measure m-data for plotting\n",
    "python sc_vmeasure_with_mdata_merge.py\n",
    "# Make the silhouette score vs v-measure plot to pick taxa -- note this filters down to only plot results for the \"ibd_subtype\" metadata category\n",
    "R sc_tb_lego7_ibd_silhouette_vs_vmeasure.R"
   ]
  },
  {
   "cell_type": "markdown",
   "metadata": {},
   "source": [
    "Review sc_stdout_parse.py outputs for selection of clusters by silhouette score. \n",
    "\n",
    "Corresponding info the clusters of interest will be in the output files form sc_vmeasure_with_mdata.py and sc_chiSq.py\n",
    "\n",
    "Transfer relevant cluster files as appropriate before plotting. "
   ]
  },
  {
   "cell_type": "code",
   "execution_count": null,
   "metadata": {},
   "outputs": [],
   "source": [
    "# Plotting\n",
    "\n",
    "python sc_convert_trajs_for_R_plotting.py -i <input folder location> -m 'prior_tb' -m 'cluster'\n",
    "\n",
    "python sc_convert_traj_for_R_plotting.py -i 'C:/Users/mathr/Documents/GitHub/tb_mmeds_initial/outputs_targeted/sputum_trajs_shannon_trajs_timeInMonths_pc_4_num_clusters_9' -m 'prior_tb' -m 'cluster' -m 'hiv'\n",
    "\n",
    "# Plot taxa trajs\n",
    "R sc_plot_tb_lego7_data.R\n",
    "# Plot alpha diversity trajs\n",
    "R sc_plot_tb_alpha_data.R"
   ]
  }
 ],
 "metadata": {
  "language_info": {
   "name": "python"
  },
  "orig_nbformat": 4
 },
 "nbformat": 4,
 "nbformat_minor": 2
}

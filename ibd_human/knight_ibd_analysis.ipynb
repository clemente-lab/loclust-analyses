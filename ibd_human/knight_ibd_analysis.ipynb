{
 "cells": [
  {
   "cell_type": "markdown",
   "metadata": {},
   "source": [
    "# This notebook describes the analysis of the Knight lab IBD dataset"
   ]
  },
  {
   "cell_type": "code",
   "execution_count": null,
   "metadata": {},
   "outputs": [],
   "source": [
    "# Base file location in Minerva\n",
    "# /sc/arion/projects/clemej05a/hilary/knight_ibd\n",
    "\n",
    "# Generate taxa summaries - performed by Adam in Qiime2. Original files in: /sc/arion/projects/clemej05a/adam/downloads/knight_longitudinal_ibd/\n",
    "# Final relative abundance artifact: relative_taxa_table_L6.qza, moved to /sc/arion/projects/clemej05a/hilary/knight_ibd\n",
    "# Unzipped\n",
    "mkdir relative_taxa_table_L6\n",
    "unzip relative_taxa_table_L6.qza\n",
    "mv 90c1865a-d66a-4387-b7c7-1a5bafc9801e  /relative_taxa_table_L6/\n",
    "\n",
    "\n",
    "# On Minerva\n",
    "source activate qiime2-2020.8.0\n",
    "\n",
    "cd 90c1865a-d66a-4387-b7c7-1a5bafc9801e /data/\n",
    "biom convert -i feature-table.biom -o feature-table-all-L6.tsv --to-tsv\n",
    "cp feature-table-all-L6.tsv /sc/arion/projects/clemej05a/hilary/longitudinal_tb/"
   ]
  },
  {
   "cell_type": "code",
   "execution_count": null,
   "metadata": {},
   "outputs": [],
   "source": [
    "# Convert genus level table to trajectories\n",
    "\n",
    "python sc_create_trajs_knight.py\n",
    "\n",
    "# Data file: rel-table-L6.tsv\n",
    "# Metadata file: mapping-file.tsv\n",
    "\n",
    "# Final trajectories saved in folder /taxa_trajs/\n",
    "# These trajs transfered to Minerva for clustering into /sc/arion/projects/clemej05a/hilary/knight_ibd/taxa_trajs/"
   ]
  },
  {
   "cell_type": "code",
   "execution_count": null,
   "metadata": {},
   "outputs": [],
   "source": [
    "# Smooth trajs\n",
    "python sc_interp_knight_ibd_trajs_lego.py\n",
    "\n",
    "# Plot the results of the smoothing to pick a smoothing factor\n",
    "R sc_smoothing_analysis.R"
   ]
  },
  {
   "cell_type": "code",
   "execution_count": null,
   "metadata": {},
   "outputs": [],
   "source": [
    "# Cluster trajectories\n",
    "# NOTE: These scripts are located in the analysis_scripts folder in loclust\n",
    "\n",
    "# Make cluster commands\n",
    "python sc_create_j_clust.py -i \"/sc/arion/projects/clemej05a/hilary/knight_ibd/taxa_trajs/\" -b \"/sc/arion/projects/clemej05a/hilary/knight_ibd/\" -s \"/sc/arion/projects/clemej05a/hilary/repos/loclust/scripts\" -o Knight_commands_for_jobs.txt\n",
    "python sc_create_j_clust.py -i \"/sc/arion/projects/clemej05a/hilary/knight_ibd/taxa_trajs_lego_interp/\" -b \"/sc/arion/projects/clemej05a/hilary/knight_ibd/\" -s \"/sc/arion/projects/clemej05a/hilary/repos/loclust/scripts\" -o Knight_commands_lego_for_jobs.txt\n",
    "# Make and submit jobs\n",
    "python generate_lsf_loclust.py -e loclust3pt8 -c Knight_commands_for_jobs.txt -o /sc/arion/projects/clemej05a/hilary/knight_ibd/jobs/ -py /hpc/users/monach01/.conda/envs/loclust3pt8/lib/python3.8/ --submit\n",
    "python generate_lsf_loclust.py -e loclust3pt8 -c Knight_commands_lego_for_jobs.txt -o /sc/arion/projects/clemej05a/hilary/knight_ibd/jobs_lego/ -py /hpc/users/monach01/.conda/envs/loclust3pt8/lib/python3.8/ --submit"
   ]
  },
  {
   "cell_type": "code",
   "execution_count": null,
   "metadata": {},
   "outputs": [],
   "source": [
    "# Calculate silhouette scores\n",
    "# NOTE: These scripts are located in the analysis_scripts folder in loclust\n",
    "python sc_stdout_parse.py -i '/sc/arion/projects/clemej05a/hilary/knight_ibd/jobs/'\n",
    "python sc_stdout_parse.py -i '/sc/arion/projects/clemej05a/hilary/knight_ibd/jobs_lego/'\n",
    "\n",
    "# Calculate v-measure\n",
    "python sc_vmeasure_with_mdata.py -i '/sc/arion/projects/clemej05a/hilary/knight_ibd/outputs/taxa_trajs/' -m \"uc_extent\" -m \"year_diagnosed\" -m \"ibd_subtype\"\n",
    "python sc_vmeasure_with_mdata.py -i '/sc/arion/projects/clemej05a/hilary/knight_ibd/outputs/taxa_trajs_lego_interp/' -m \"uc_extent\" -m \"year_diagnosed\" -m \"ibd_subtype\"\n",
    "\n",
    "# Calculate chi squared results\n",
    "python sc_chiSq.py -i '/sc/arion/projects/clemej05a/hilary/knight_ibd/outputs/taxa_trajs/' -m \"uc_extent\" -m \"year_diagnosed\" -m \"ibd_subtype\"\n",
    "python sc_chiSq.py -i '/sc/arion/projects/clemej05a/hilary/knight_ibd/outputs/taxa_trajs_lego_interp/' -m \"uc_extent\" -m \"year_diagnosed\" -m \"ibd_subtype\"\n"
   ]
  },
  {
   "cell_type": "code",
   "execution_count": null,
   "metadata": {},
   "outputs": [],
   "source": [
    "# Selection of taxa for further analysis\n",
    "\n",
    "# Merge silhouette score and v-measure m-data for plotting\n",
    "python sc_vmeasure_with_mdata_merge.py\n",
    "# Make the silhouette score vs v-measure plot to pick taxa -- note this filters down to only plot results for the \"ibd_subtype\" metadata category\n",
    "R sc_knight_ibd_silhouette_vs_vmeasure.R"
   ]
  },
  {
   "cell_type": "markdown",
   "metadata": {},
   "source": [
    "Review sc_stdout_parse.py outputs for selection of clusters by silhouette score. \n",
    "\n",
    "Corresponding info the clusters of interest will be in the output files form sc_vmeasure_with_mdata.py and sc_chiSq.py\n",
    "\n",
    "Transfer relevant cluster files as appropriate before plotting. "
   ]
  },
  {
   "cell_type": "code",
   "execution_count": null,
   "metadata": {},
   "outputs": [],
   "source": [
    "# Plotting\n",
    "\n",
    "# Check the chi^2 results, pick taxa for visualization, transfer relevant files to the directory where you're storing final cluster results, convert the cluster outputs to R dataframes\n",
    "# NOTE: This script is located in the analysis_scripts folder in loclust\n",
    "python sc_convert_traj_for_R_plotting.py -i 'C:/Users/mathr/Documents/GitHub/knight_ibd/outputs/taxa_trajs_lego_interp/' -m \"uc_extent\" -m \"year_diagnosed\" -m \"ibd_subtype\" -m \"cluster\"\n",
    "\n",
    "# Plot taxa figures\n",
    "R sc_plot_knight_ibd_data.R\n",
    "\n"
   ]
  }
 ],
 "metadata": {
  "language_info": {
   "name": "python"
  },
  "orig_nbformat": 4
 },
 "nbformat": 4,
 "nbformat_minor": 2
}

{
 "cells": [
  {
   "cell_type": "markdown",
   "metadata": {},
   "source": [
    "# This notebook describes the analysis of the Simulation Data"
   ]
  },
  {
   "cell_type": "markdown",
   "metadata": {},
   "source": [
    "Trajectories were generated using loclust. For additional detail see Nan Shen's Thesis. \n",
    "\n",
    "Data stored here: /sc/arion/projects/clemej05a/hilary/loclust_tool_comp/input_trajs/8\n",
    "\n",
    "Nan's Original Copy: /sc/arion/projects/clemej05a/cooccurrence/lodi_simu_test/outputs/8"
   ]
  },
  {
   "cell_type": "code",
   "execution_count": null,
   "metadata": {},
   "outputs": [],
   "source": [
    "# To generate file structure and jobs for all R tools:\n",
    "# Make sure to update variables in the file before running (BASE_DIR etc)\n",
    "# Make sure the '--submit' flag is on the python generate_lsf_cluster_tool.py command\n",
    "sh ./sh_sim_comp_setup.sh "
   ]
  },
  {
   "cell_type": "code",
   "execution_count": null,
   "metadata": {},
   "outputs": [],
   "source": [
    "# To generate and submit all jobs for loclust:\n",
    "# 3 func: \n",
    "python sc_generate_create_j_clust.py -t '/sc/arion/projects/clemej05a/hilary/loclust_simulations/input_trajs_sim_analysis_3/' -s '/sc/arion/projects/clemej05a/hilary/repos/loclust/scripts' -l '3func' -e loclust3pt8 -py /hpc/users/monach01/.conda/envs/loclust3pt8/lib/python3.8/ --submit\n",
    "\n",
    "# 6 func: \n",
    "python sc_generate_create_j_clust.py -t '/sc/arion/projects/clemej05a/hilary/loclust_simulations/input_trajs_sim_analysis_6/' -s '/sc/arion/projects/clemej05a/hilary/repos/loclust/scripts' -l '6func' -e loclust3pt8 -py /hpc/users/monach01/.conda/envs/loclust3pt8/lib/python3.8/ --submit\n",
    "\n",
    "# 9 func: \n",
    "python sc_generate_create_j_clust.py -t '/sc/arion/projects/clemej05a/hilary/loclust_simulations/input_trajs_sim_analysis_9/' -s '/sc/arion/projects/clemej05a/hilary/repos/loclust/scripts' -l '9func' -e loclust3pt8 -py /hpc/users/monach01/.conda/envs/loclust3pt8/lib/python3.8/ --submit\n",
    "\n"
   ]
  },
  {
   "cell_type": "code",
   "execution_count": null,
   "metadata": {},
   "outputs": [],
   "source": [
    "# Calculate v-measure results\n",
    "sh ./sh_sim_vmeasure_summary.sh\n"
   ]
  },
  {
   "cell_type": "code",
   "execution_count": null,
   "metadata": {},
   "outputs": [],
   "source": [
    "# Plot results\n",
    "R /sc_plot_v_measure_results.R"
   ]
  }
 ],
 "metadata": {
  "language_info": {
   "name": "python"
  }
 },
 "nbformat": 4,
 "nbformat_minor": 2
}

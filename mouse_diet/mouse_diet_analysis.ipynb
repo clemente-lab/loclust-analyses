{
 "cells": [
  {
   "cell_type": "markdown",
   "metadata": {},
   "source": [
    "# This notebook describes the analysis of the TB dataset"
   ]
  },
  {
   "cell_type": "markdown",
   "metadata": {},
   "source": [
    "Unrarified OTU table: ILL46_Sean_otu_table.tsv, 4016 separate OTUs\n",
    "\n",
    "Original file: /sc/arion/projects/clemej05a/cooccurrence/longi_test_data/biom/sean/ILL46_Sean_otu_table.biom, created 3/12/2018\n",
    "\n",
    "Mapping file used: ILL46_Sean_Mapping.unix.tsv (347 samples), created "
   ]
  },
  {
   "cell_type": "code",
   "execution_count": null,
   "metadata": {},
   "outputs": [],
   "source": [
    "# Convert biom file to genus file\n",
    "source activate cutie # Hilary's cutie env has biom installed in it\n",
    "biom convert -i ILL46_Sean_otu_table.biom -o ILL46_Sean_otu_table.tsv --to-tsv"
   ]
  },
  {
   "cell_type": "code",
   "execution_count": null,
   "metadata": {},
   "outputs": [],
   "source": [
    "# Generate taxa summaries\n",
    "\n",
    "ml purge\n",
    "ml anaconda2\n",
    "source activate qiime1.9.1\n",
    "summarize_taxa.py -i taxa_otu_table.biom -o taxa_summaries/"
   ]
  },
  {
   "cell_type": "code",
   "execution_count": null,
   "metadata": {},
   "outputs": [],
   "source": [
    "# Convert genus level table to trajectories\n",
    "\n",
    "# Script location: C:\\Users\\mathr\\Documents\\GitHub\\sean\\\n",
    "python sc_create_trajs_sean.py"
   ]
  },
  {
   "cell_type": "code",
   "execution_count": null,
   "metadata": {},
   "outputs": [],
   "source": [
    "# Cluster trajectories\n",
    "ml purge\n",
    "ml anaconda3\n",
    "source activate loclust3pt8\n",
    "\n",
    "# NOTE: These scripts are located in the analysis_scripts folder in loclust\n",
    "# Make cluster commands\n",
    "python sc_create_j_clust.py -i \"/sc/arion/projects/clemej05a/hilary/sean/taxa_trajs/\" -b \"/sc/arion/projects/clemej05a/hilary/sean/\" -s \"/sc/arion/projects/clemej05a/hilary/repos/loclust/scripts\" -o Sean_commands_for_jobs.txt\n",
    "\n",
    "# Make and submit jobs\n",
    "python generate_lsf_loclust.py -e loclust3pt8 -c Sean_commands_for_jobs.txt -o /sc/arion/projects/clemej05a/hilary/sean/jobs/ -py /hpc/users/monach01/.conda/envs/loclust3pt8/lib/python3.8/ --submit"
   ]
  },
  {
   "cell_type": "code",
   "execution_count": null,
   "metadata": {},
   "outputs": [],
   "source": [
    "# NOTE: These scripts are located in the analysis_scripts folder in loclust\n",
    "\n",
    "# Calculate silhouette scores\n",
    "python sc_stdout_parse.py -i '/sc/arion/projects/clemej05a/hilary/sean/jobs/'\n",
    "\n",
    "# Calculate v-measure\n",
    "python sc_vmeasure_with_mdata.py -i '/sc/arion/projects/clemej05a/hilary/sean/outputs/taxa_trajs/' -m \"Diet\"\n",
    "\n",
    "# Calculate chi squared results\n",
    "python sc_chiSq.py -i '/sc/arion/projects/clemej05a/hilary/sean/outputs/taxa_trajs/' -m \"Diet\"\n"
   ]
  },
  {
   "cell_type": "code",
   "execution_count": null,
   "metadata": {},
   "outputs": [],
   "source": [
    "# Selecting taxa for further analysis\n",
    "python sc_vmeasure_with_mdata.py\n",
    "\n",
    "R sc_sean_silhouette_vs_vmeasure.R"
   ]
  },
  {
   "cell_type": "markdown",
   "metadata": {},
   "source": [
    "Review sc_stdout_parse.py outputs for selection of clusters by silhouette score. \n",
    "\n",
    "Corresponding info the clusters of interest will be in the output files form sc_vmeasure_with_mdata.py and sc_chiSq.py\n",
    "\n",
    "Transfer relevant cluster files as appropriate before plotting. "
   ]
  },
  {
   "cell_type": "code",
   "execution_count": null,
   "metadata": {},
   "outputs": [],
   "source": [
    "# Plotting the clusters \n",
    "# NOTE: This script is located in the analysis_scripts folder in loclust\n",
    "python sc_convert_traj_for_R_plotting.py -i 'C:/Users/mathr/Documents/GitHub/sean/outputs_targeted/<Insert the name of the folder containing the cluster selection here>' -m 'Diet' -m 'cluster'\n",
    "# ex: \n",
    "python sc_convert_traj_for_R_plotting.py -i 'C:/Users/mathr/Documents/GitHub/sean/outputs_targeted/L6_Bacteroides_trajs_pc_3_num_clusters_9' -m 'Diet' -m 'cluster'\n",
    "python sc_convert_traj_for_R_plotting.py -i 'C:/Users/mathr/Documents/GitHub/sean/outputs_targeted/L6_Carnobacterium_trajs_pc_3_num_clusters_3' -m 'Diet' -m 'cluster'\n",
    "python sc_convert_traj_for_R_plotting.py -i 'C:/Users/mathr/Documents/GitHub/sean/outputs_targeted/L6_Dorea_trajs_pc_3_num_clusters_9' -m 'Diet' -m 'cluster'\n",
    "python sc_convert_traj_for_R_plotting.py -i 'C:/Users/mathr/Documents/GitHub/sean/outputs_targeted/L6_Enterococcus_trajs_pc_4_num_clusters_9' -m 'Diet' -m 'cluster'\n",
    "python sc_convert_traj_for_R_plotting.py -i 'C:/Users/mathr/Documents/GitHub/sean/outputs_targeted/L6_Jeotgalicoccus_trajs_pc_None_num_clusters_9' -m 'Diet' -m 'cluster'\n",
    "\n",
    "\n",
    "R sc_plot_sean_data.R\n",
    "\n"
   ]
  }
 ],
 "metadata": {
  "language_info": {
   "name": "python"
  },
  "orig_nbformat": 4
 },
 "nbformat": 4,
 "nbformat_minor": 2
}

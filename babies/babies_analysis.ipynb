{
 "cells": [
  {
   "cell_type": "markdown",
   "metadata": {},
   "source": [
    "# This notebook describes the analysis of the babies_mg dataset"
   ]
  },
  {
   "cell_type": "code",
   "execution_count": null,
   "metadata": {},
   "outputs": [],
   "source": [
    "# Convert biom file to genus file\n",
    "\n",
    "# Summary table is from Nan's folder: /sc/arion/projects/clemej05a/cooccurrence/longi_test_data/biom/maturation/taxa/, copied to /sc/arion/projects/clemej05a/hilary/babies_mg/taxa/\n",
    "\n",
    "# On Minerva\n",
    "source activate qiime2-2020.8.0\n",
    "\n",
    "biom convert -i otu_table_merged.0-12m.stool.child.biom -o otu_table_merged.0-12m.stool.child.tsv\n",
    "\n",
    "# Summarize taxa results in /taxa/ folder. Using L6 for downstream analyses"
   ]
  },
  {
   "cell_type": "code",
   "execution_count": null,
   "metadata": {},
   "outputs": [],
   "source": [
    "# Convert genus level table to trajectories\n",
    "\n",
    "python sc_create_trajs_babies.py"
   ]
  },
  {
   "cell_type": "code",
   "execution_count": null,
   "metadata": {},
   "outputs": [],
   "source": [
    "# Cluster UNSMOOTHED trajectories\n",
    "# NOTE: These scripts are located in the analysis_scripts folder in loclust\n",
    "\n",
    "# Make cluster commands\n",
    "python sc_create_j_clust.py -i \"/sc/arion/projects/clemej05a/hilary/babies_mg/otu_tables_and_mapping_files/taxa_trajs_stool_child_months_lego_interp/\" -b \"/sc/arion/projects/clemej05a/hilary/babies_mg_lego5_outputs/\" -s \"/sc/arion/projects/clemej05a/hilary/repos/loclust/scripts/\" -o Babies_lego5_commands_for_jobs.txt \n",
    "\n",
    "# Make and submit jobs\n",
    "python generate_lsf_loclust.py -e loclust3pt8 -c Babies_lego5_commands_for_jobs.txt -o /sc/arion/projects/clemej05a/hilary/babies_mg_lego5_outputs/jobs/ -py /hpc/users/monach01/.conda/envs/loclust3pt8/lib/python3.8/ --submit"
   ]
  },
  {
   "cell_type": "code",
   "execution_count": null,
   "metadata": {},
   "outputs": [],
   "source": [
    "# Smooth trajectories\n",
    "\n",
    "python sc_interp_babies_trajs_lego.py"
   ]
  },
  {
   "cell_type": "code",
   "execution_count": null,
   "metadata": {},
   "outputs": [],
   "source": [
    "# Cluster trajectories\n",
    "# NOTE: These scripts are located in the analysis_scripts folder in loclust\n",
    "\n",
    "# Make cluster commands\n",
    "python sc_create_j_clust.py -i \"/sc/arion/projects/clemej05a/hilary/babies_mg/taxa_trajs_lego_interp/\" -b \"/sc/arion/projects/clemej05a/hilary/babies_mg/\" -s \"/sc/arion/projects/clemej05a/hilary/repos/loclust/scripts\" -o Babies_lego5_commands_for_jobs.txt\n",
    "\n",
    "# Make and submit jobs\n",
    "python generate_lsf_loclust.py -e loclust3pt8 -c Babies_lego5_commands_for_jobs.txt -o /sc/arion/projects/clemej05a/hilary/babies_mg/jobs_lego5/ -py /hpc/users/monach01/.conda/envs/loclust3pt8/lib/python3.8/ --submit"
   ]
  },
  {
   "cell_type": "code",
   "execution_count": null,
   "metadata": {},
   "outputs": [],
   "source": [
    "# Calculate silhouette scores\n",
    "# NOTE: These scripts are located in the analysis_scripts folder in loclust\n",
    "python sc_stdout_parse.py -i '/sc/arion/projects/clemej05a/hilary/babies_mg/jobs/'\n",
    "python sc_stdout_parse.py -i '/sc/arion/projects/clemej05a/hilary/babies_mg/jobs_lego5/'\n",
    "\n",
    "# Calculate v-measure\n",
    "python sc_vmeasure_with_mdata.py -i '/sc/arion/projects/clemej05a/hilary/babies_mg/outputs/taxa_trajs/' -m \"delivery\"\n",
    "python sc_vmeasure_with_mdata.py -i '/sc/arion/projects/clemej05a/hilary/babies_mg/outputs/taxa_trajs_lego_interp/' -m \"delivery\"\n",
    "\n",
    "# Calculate chi squared results\n",
    "python sc_chiSq.py -i '/sc/arion/projects/clemej05a/hilary/babies_mg/outputs/taxa_trajs/' -m \"delivery\"\n",
    "python sc_chiSq.py -i '/sc/arion/projects/clemej05a/hilary/babies_mg/outputs/taxa_trajs_lego_interp/' -m \"delivery\"\n"
   ]
  },
  {
   "cell_type": "markdown",
   "metadata": {},
   "source": [
    "Review sc_stdout_parse.py outputs for selection of clusters by silhouette score. \n",
    "\n",
    "Corresponding info the clusters of interest will be in the output files form sc_vmeasure_with_mdata.py and sc_chiSq.py\n",
    "\n",
    "Transfer relevant cluster files as appropriate before plotting. "
   ]
  },
  {
   "cell_type": "code",
   "execution_count": null,
   "metadata": {},
   "outputs": [],
   "source": [
    "# Plotting\n",
    "\n",
    "# Convert traj files to tidy data format for plotting in R\n",
    "# NOTE: This script is located in the analysis_scripts folder in loclust\n",
    "python sc_convert_traj_for_R_plotting.py -i 'C:/Users/mathr/Documents/GitHub/babies_mg/otu_tables_and_mapping_files/taxa_trajs_lego_interp/' -m \"delivery\" -o 'C:/Users/mathr/Documents/GitHub/babies_mg/otu_tables_and_mapping_files/taxa_trajs_lego_interp/_R/'\n",
    "\n",
    "# Plot trajs and associated clusters colored by delivery metadata in R\n",
    "R sc_plot_babies_trajs.R\n",
    "\n",
    "# Combine v-meausre and silhoeutte score information into a single dataframe\n",
    "python sc_vmeasure_with_mdata_merge.py\n",
    "\n",
    "# Plot V-measure vs silhouette score\n",
    "R sc_babies_only_silhouette_vs_vmeasure.R\n"
   ]
  }
 ],
 "metadata": {
  "language_info": {
   "name": "python"
  },
  "orig_nbformat": 4
 },
 "nbformat": 4,
 "nbformat_minor": 2
}
